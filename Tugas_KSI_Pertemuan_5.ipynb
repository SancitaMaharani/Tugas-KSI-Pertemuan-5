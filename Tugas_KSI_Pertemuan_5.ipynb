{
  "nbformat": 4,
  "nbformat_minor": 0,
  "metadata": {
    "colab": {
      "provenance": []
    },
    "kernelspec": {
      "name": "python3",
      "display_name": "Python 3"
    },
    "language_info": {
      "name": "python"
    }
  },
  "cells": [
    {
      "cell_type": "markdown",
      "source": [
        "## **TUGAS KSI PERTEMUAN 5**\n",
        "\n",
        "**Nama: Ni Putu Sancita Maharani Ardana**\n",
        "\n",
        "**NIM: 222112258**\n",
        "\n",
        "**Kelas: 3SI2**"
      ],
      "metadata": {
        "id": "fSEU8TzcEyzq"
      }
    },
    {
      "cell_type": "code",
      "source": [
        "def generate_substitution_key(key):\n",
        "    alphabet = 'abcdefghijklmnopqrstuvwxyz'\n",
        "    key_map = {}\n",
        "    for i in range(len(alphabet)):key_map[alphabet[i]] = key[i]\n",
        "    return key_map\n",
        "\n",
        "def encrypt_substitution(plaintext, key_map):\n",
        "    encrypted_text = ''\n",
        "    for char in plaintext:\n",
        "        if char.lower() in key_map:\n",
        "            encrypted_char = key_map[char.lower()]\n",
        "            if char.isupper():\n",
        "                encrypted_text += encrypted_char.upper()\n",
        "            else:\n",
        "                encrypted_text += encrypted_char\n",
        "        else:\n",
        "            encrypted_text += char\n",
        "    return encrypted_text\n",
        "\n",
        "def decrypt_substitution(encrypted_text, key_map):\n",
        "    reversed_key_map = {v: k for k, v in key_map.items()}\n",
        "    return encrypt_substitution(encrypted_text, reversed_key_map)\n",
        "\n",
        "# Main program\n",
        "mode = input(\"Do you want to encrypt or decrypt? (e/d): \").lower()\n",
        "key = input(\"Enter the substitution key (26 unique letters): \")\n",
        "key_map = generate_substitution_key(key)\n",
        "\n",
        "if mode in ['e', 'encrypt']:\n",
        "    plaintext = input(\"Enter the message to encrypt: \")\n",
        "    encrypted_message = encrypt_substitution(plaintext, key_map)\n",
        "    print(\"Encrypted message:\", encrypted_message)\n",
        "elif mode in ['d', 'decrypt']:\n",
        "    encrypted_text = input(\"Enter the message to decrypt: \")\n",
        "    decrypted_message = decrypt_substitution(encrypted_text, key_map)\n",
        "    print(\"Decrypted message:\", decrypted_message)\n",
        "else:\n",
        "    print(\"Invalid mode selected.\")\n"
      ],
      "metadata": {
        "colab": {
          "base_uri": "https://localhost:8080/"
        },
        "id": "Sz97kSHOFF-5",
        "outputId": "f6fe253e-b927-4950-e274-56eda09fcc13"
      },
      "execution_count": 6,
      "outputs": [
        {
          "output_type": "stream",
          "name": "stdout",
          "text": [
            "Do you want to encrypt or decrypt? (e/d): d\n",
            "Enter the substitution key (26 unique letters): qwertyuiopasdfghjklzxcvbnm\n",
            "Enter the message to decrypt: o sgct ngx\n",
            "Decrypted message: i love you\n"
          ]
        }
      ]
    }
  ]
}